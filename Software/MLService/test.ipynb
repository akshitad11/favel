{
 "cells": [
  {
   "cell_type": "code",
   "execution_count": null,
   "metadata": {},
   "outputs": [],
   "source": [
    "%load_ext autoreload\n",
    "%autoreload 2\n",
    "\n",
    "import pandas as pd\n",
    "from sklearn import *\n",
    "# from PG.Software.MLService.ML_train import *\n",
    "from favel.Software.MLService.ML import ML"
   ]
  },
  {
   "cell_type": "code",
   "execution_count": null,
   "metadata": {},
   "outputs": [],
   "source": [
    "from pathlib import Path\n",
    "\n",
    "data=pd.read_csv('./test/bpdp_outputs.csv')\n",
    "\n",
    "data=data.rename(columns={'true_value': 'truth'})\n",
    "\n",
    "print(data.shape)\n",
    "data.head()\n"
   ]
  },
  {
   "cell_type": "markdown",
   "metadata": {},
   "source": [
    "# Train"
   ]
  },
  {
   "cell_type": "code",
   "execution_count": null,
   "metadata": {},
   "outputs": [],
   "source": [
    "path='./test/output_3'\n",
    "Path(path).mkdir(parents=True, exist_ok=True)\n",
    "ml = ML(log_file=f'{path}/test.logs')"
   ]
  },
  {
   "cell_type": "code",
   "execution_count": null,
   "metadata": {},
   "outputs": [],
   "source": [
    "from sklearn.ensemble import GradientBoostingClassifier\n",
    "train_result = ml.train_model(df=data,\n",
    "                    ml_model=GradientBoostingClassifier(n_estimators=100, learning_rate=1.0, max_depth=1, random_state=0), \n",
    "                    output_path=path,\n",
    "                    dataset_path='BPDP')\n",
    "\n"
   ]
  },
  {
   "cell_type": "markdown",
   "metadata": {},
   "source": [
    "# Validate"
   ]
  },
  {
   "cell_type": "code",
   "execution_count": null,
   "metadata": {},
   "outputs": [],
   "source": [
    "test_df=data.sample(100)\n",
    "test_df.shape      "
   ]
  },
  {
   "cell_type": "code",
   "execution_count": null,
   "metadata": {},
   "outputs": [],
   "source": [
    "testing_result = ml.validate_model(test_df, \n",
    "                                    output_path=path,\n",
    "                                    dataset_path='BPDP')\n",
    "\n",
    "testing_result\n"
   ]
  },
  {
   "cell_type": "code",
   "execution_count": null,
   "metadata": {},
   "outputs": [],
   "source": []
  }
 ],
 "metadata": {
  "kernelspec": {
   "display_name": "Python 3.9.12 ('base')",
   "language": "python",
   "name": "python3"
  },
  "language_info": {
   "codemirror_mode": {
    "name": "ipython",
    "version": 3
   },
   "file_extension": ".py",
   "mimetype": "text/x-python",
   "name": "python",
   "nbconvert_exporter": "python",
   "pygments_lexer": "ipython3",
   "version": "3.9.12"
  },
  "orig_nbformat": 4,
  "vscode": {
   "interpreter": {
    "hash": "760e8a02d58bef947fb67df29745f4128d863e8829938df1158e073523dddf20"
   }
  }
 },
 "nbformat": 4,
 "nbformat_minor": 2
}

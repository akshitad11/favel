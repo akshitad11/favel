{
 "cells": [
  {
   "cell_type": "code",
   "execution_count": 1,
   "metadata": {},
   "outputs": [],
   "source": [
    "%load_ext autoreload\n",
    "%autoreload 2\n",
    "\n",
    "import pandas as pd\n",
    "from sklearn import *\n",
    "# from PG.Software.MLService.ML_train import *\n",
    "from favel.Software.MLService.ML import ML"
   ]
  },
  {
   "cell_type": "code",
   "execution_count": 2,
   "metadata": {},
   "outputs": [
    {
     "name": "stdout",
     "output_type": "stream",
     "text": [
      "(407, 14)\n"
     ]
    },
    {
     "data": {
      "text/html": [
       "<div>\n",
       "<style scoped>\n",
       "    .dataframe tbody tr th:only-of-type {\n",
       "        vertical-align: middle;\n",
       "    }\n",
       "\n",
       "    .dataframe tbody tr th {\n",
       "        vertical-align: top;\n",
       "    }\n",
       "\n",
       "    .dataframe thead th {\n",
       "        text-align: right;\n",
       "    }\n",
       "</style>\n",
       "<table border=\"1\" class=\"dataframe\">\n",
       "  <thead>\n",
       "    <tr style=\"text-align: right;\">\n",
       "      <th></th>\n",
       "      <th>subject</th>\n",
       "      <th>predicate</th>\n",
       "      <th>object</th>\n",
       "      <th>truth</th>\n",
       "      <th>COPAAL</th>\n",
       "      <th>degree_product</th>\n",
       "      <th>jaccard</th>\n",
       "      <th>Katz</th>\n",
       "      <th>KL</th>\n",
       "      <th>klrel</th>\n",
       "      <th>KS</th>\n",
       "      <th>pathent</th>\n",
       "      <th>simrank</th>\n",
       "      <th>adamic_adar</th>\n",
       "    </tr>\n",
       "  </thead>\n",
       "  <tbody>\n",
       "    <tr>\n",
       "      <th>0</th>\n",
       "      <td>http://dbpedia.org/resource/Alexander_Kerensky</td>\n",
       "      <td>http://dbpedia.org/ontology/birthPlace</td>\n",
       "      <td>http://dbpedia.org/resource/Ulyanovsk</td>\n",
       "      <td>1</td>\n",
       "      <td>0.999998</td>\n",
       "      <td>1064</td>\n",
       "      <td>0.027397</td>\n",
       "      <td>0.027750</td>\n",
       "      <td>0.107504</td>\n",
       "      <td>0.099132</td>\n",
       "      <td>0.046729</td>\n",
       "      <td>3981.216920</td>\n",
       "      <td>0.000787</td>\n",
       "      <td>0.336008</td>\n",
       "    </tr>\n",
       "    <tr>\n",
       "      <th>1</th>\n",
       "      <td>http://dbpedia.org/resource/Ernst_Mayr</td>\n",
       "      <td>http://dbpedia.org/ontology/deathPlace</td>\n",
       "      <td>http://dbpedia.org/resource/Bedford,_Massachus...</td>\n",
       "      <td>1</td>\n",
       "      <td>0.995696</td>\n",
       "      <td>2750</td>\n",
       "      <td>0.009615</td>\n",
       "      <td>0.019875</td>\n",
       "      <td>0.059052</td>\n",
       "      <td>0.061001</td>\n",
       "      <td>0.022926</td>\n",
       "      <td>3093.521205</td>\n",
       "      <td>0.000236</td>\n",
       "      <td>0.079083</td>\n",
       "    </tr>\n",
       "    <tr>\n",
       "      <th>2</th>\n",
       "      <td>http://dbpedia.org/resource/J._R._R._Tolkien</td>\n",
       "      <td>http://dbpedia.org/ontology/deathPlace</td>\n",
       "      <td>http://dbpedia.org/resource/Bournemouth</td>\n",
       "      <td>1</td>\n",
       "      <td>0.999985</td>\n",
       "      <td>38610</td>\n",
       "      <td>0.004494</td>\n",
       "      <td>0.103625</td>\n",
       "      <td>0.059549</td>\n",
       "      <td>0.078402</td>\n",
       "      <td>0.034786</td>\n",
       "      <td>3160.010453</td>\n",
       "      <td>0.000308</td>\n",
       "      <td>0.259814</td>\n",
       "    </tr>\n",
       "    <tr>\n",
       "      <th>3</th>\n",
       "      <td>http://dbpedia.org/resource/André_Weil</td>\n",
       "      <td>http://dbpedia.org/ontology/deathPlace</td>\n",
       "      <td>http://dbpedia.org/resource/Princeton,_New_Jersey</td>\n",
       "      <td>1</td>\n",
       "      <td>0.851353</td>\n",
       "      <td>10032</td>\n",
       "      <td>0.000000</td>\n",
       "      <td>0.077375</td>\n",
       "      <td>0.076913</td>\n",
       "      <td>0.096255</td>\n",
       "      <td>0.068463</td>\n",
       "      <td>5778.382026</td>\n",
       "      <td>0.000600</td>\n",
       "      <td>0.000000</td>\n",
       "    </tr>\n",
       "    <tr>\n",
       "      <th>4</th>\n",
       "      <td>http://dbpedia.org/resource/John_A._Macdonald</td>\n",
       "      <td>http://dbpedia.org/ontology/deathPlace</td>\n",
       "      <td>http://dbpedia.org/resource/Ottawa</td>\n",
       "      <td>1</td>\n",
       "      <td>1.000000</td>\n",
       "      <td>127185</td>\n",
       "      <td>0.002335</td>\n",
       "      <td>0.864750</td>\n",
       "      <td>0.089868</td>\n",
       "      <td>0.116327</td>\n",
       "      <td>0.113633</td>\n",
       "      <td>2084.462668</td>\n",
       "      <td>0.001092</td>\n",
       "      <td>1.286593</td>\n",
       "    </tr>\n",
       "  </tbody>\n",
       "</table>\n",
       "</div>"
      ],
      "text/plain": [
       "                                          subject  \\\n",
       "0  http://dbpedia.org/resource/Alexander_Kerensky   \n",
       "1          http://dbpedia.org/resource/Ernst_Mayr   \n",
       "2    http://dbpedia.org/resource/J._R._R._Tolkien   \n",
       "3          http://dbpedia.org/resource/André_Weil   \n",
       "4   http://dbpedia.org/resource/John_A._Macdonald   \n",
       "\n",
       "                                predicate  \\\n",
       "0  http://dbpedia.org/ontology/birthPlace   \n",
       "1  http://dbpedia.org/ontology/deathPlace   \n",
       "2  http://dbpedia.org/ontology/deathPlace   \n",
       "3  http://dbpedia.org/ontology/deathPlace   \n",
       "4  http://dbpedia.org/ontology/deathPlace   \n",
       "\n",
       "                                              object  truth    COPAAL  \\\n",
       "0              http://dbpedia.org/resource/Ulyanovsk      1  0.999998   \n",
       "1  http://dbpedia.org/resource/Bedford,_Massachus...      1  0.995696   \n",
       "2            http://dbpedia.org/resource/Bournemouth      1  0.999985   \n",
       "3  http://dbpedia.org/resource/Princeton,_New_Jersey      1  0.851353   \n",
       "4                 http://dbpedia.org/resource/Ottawa      1  1.000000   \n",
       "\n",
       "   degree_product   jaccard      Katz        KL     klrel        KS  \\\n",
       "0            1064  0.027397  0.027750  0.107504  0.099132  0.046729   \n",
       "1            2750  0.009615  0.019875  0.059052  0.061001  0.022926   \n",
       "2           38610  0.004494  0.103625  0.059549  0.078402  0.034786   \n",
       "3           10032  0.000000  0.077375  0.076913  0.096255  0.068463   \n",
       "4          127185  0.002335  0.864750  0.089868  0.116327  0.113633   \n",
       "\n",
       "       pathent   simrank  adamic_adar  \n",
       "0  3981.216920  0.000787     0.336008  \n",
       "1  3093.521205  0.000236     0.079083  \n",
       "2  3160.010453  0.000308     0.259814  \n",
       "3  5778.382026  0.000600     0.000000  \n",
       "4  2084.462668  0.001092     1.286593  "
      ]
     },
     "execution_count": 2,
     "metadata": {},
     "output_type": "execute_result"
    }
   ],
   "source": [
    "from pathlib import Path\n",
    "\n",
    "data=pd.read_csv('./test/bpdp_outputs.csv')\n",
    "\n",
    "data=data.rename(columns={'true_value': 'truth'})\n",
    "\n",
    "print(data.shape)\n",
    "data.head()\n"
   ]
  },
  {
   "cell_type": "code",
   "execution_count": 3,
   "metadata": {},
   "outputs": [
    {
     "data": {
      "text/plain": [
       "0    204\n",
       "1    203\n",
       "Name: truth, dtype: int64"
      ]
     },
     "execution_count": 3,
     "metadata": {},
     "output_type": "execute_result"
    }
   ],
   "source": [
    "data.truth.value_counts(normalize=False)"
   ]
  },
  {
   "cell_type": "markdown",
   "metadata": {},
   "source": [
    "# Train"
   ]
  },
  {
   "cell_type": "code",
   "execution_count": 4,
   "metadata": {},
   "outputs": [],
   "source": [
    "path='./test/output_5'\n",
    "Path(path).mkdir(parents=True, exist_ok=True)\n",
    "ml = ML(log_file=f'{path}/test.logs')"
   ]
  },
  {
   "cell_type": "code",
   "execution_count": null,
   "metadata": {},
   "outputs": [],
   "source": [
    "from sklearn.ensemble import GradientBoostingClassifier\n",
    "train_result = ml.train_model(df=data,\n",
    "                    ml_model=GradientBoostingClassifier(n_estimators=100, learning_rate=1.0, max_depth=1, random_state=0), \n",
    "                    output_path=path,\n",
    "                    dataset_path='BPDP')\n",
    "\n"
   ]
  },
  {
   "cell_type": "code",
   "execution_count": null,
   "metadata": {},
   "outputs": [],
   "source": [
    "train_result"
   ]
  },
  {
   "cell_type": "markdown",
   "metadata": {},
   "source": [
    "# Validate"
   ]
  },
  {
   "cell_type": "code",
   "execution_count": null,
   "metadata": {},
   "outputs": [],
   "source": [
    "test_df=data.sample(100).copy()\n",
    "print(test_df.shape)\n",
    "test_df.head(1)\n",
    "     "
   ]
  },
  {
   "cell_type": "code",
   "execution_count": null,
   "metadata": {},
   "outputs": [],
   "source": [
    "test_df.ensemble_score.value_counts()"
   ]
  },
  {
   "cell_type": "code",
   "execution_count": null,
   "metadata": {},
   "outputs": [],
   "source": [
    "testing_result = ml.validate_model(test_df, \n",
    "                                    output_path=path,\n",
    "                                    dataset_path='BPDP')\n",
    "\n",
    "testing_result"
   ]
  },
  {
   "cell_type": "code",
   "execution_count": null,
   "metadata": {},
   "outputs": [],
   "source": [
    "testing_result.truth.value_counts()"
   ]
  },
  {
   "cell_type": "markdown",
   "metadata": {},
   "source": [
    "# Test Optmisation"
   ]
  },
  {
   "cell_type": "code",
   "execution_count": 6,
   "metadata": {},
   "outputs": [
    {
     "data": {
      "text/plain": [
       "sklearn.ensemble._gb.GradientBoostingClassifier"
      ]
     },
     "execution_count": 6,
     "metadata": {},
     "output_type": "execute_result"
    }
   ],
   "source": [
    "ml_model_name='GradientBoostingClassifier'\n",
    "\n",
    "# ml_model_params = \"\"\"[\n",
    "#     {'name': 'n_estimators', 'range':[50, 150], 'prior':'log-uniform'},\n",
    "#     {'name':'min_samples_leaf', 'range': [1.0,10.0]},\n",
    "#     {'name':'max_features', 'range': ['sqrt', 'log2']},\n",
    "# ]\"\"\"\n",
    "\n",
    "ml_model_params = \"{'n_estimators': 100, 'min_samples_leaf': 1.0, 'max_features': 1, 'random_state': 0}\"\n",
    "\n",
    "ml_model = ml.get_sklearn_model(ml_model_name, ml_model_params, data)\n",
    "type(ml_model)\n"
   ]
  },
  {
   "cell_type": "code",
   "execution_count": 7,
   "metadata": {},
   "outputs": [
    {
     "name": "stdout",
     "output_type": "stream",
     "text": [
      "TRAIN:  (407, 11) (407,) GradientBoostingClassifier(max_features=1, min_samples_leaf=1.0, random_state=0) int64\n"
     ]
    }
   ],
   "source": [
    "model, lableEncoder, trainMetrics = ml.train_model(df=data, \n",
    "                                    ml_model=ml_model, \n",
    "                                    output_path=path, \n",
    "                                    dataset_path='BPDP')"
   ]
  },
  {
   "cell_type": "code",
   "execution_count": 8,
   "metadata": {},
   "outputs": [
    {
     "data": {
      "text/plain": [
       "{'overall': 0.5, 'cv_mean': 0.5, 'cv_std': 0.0}"
      ]
     },
     "execution_count": 8,
     "metadata": {},
     "output_type": "execute_result"
    }
   ],
   "source": [
    "trainMetrics"
   ]
  },
  {
   "cell_type": "markdown",
   "metadata": {},
   "source": [
    "# Optimisation"
   ]
  },
  {
   "cell_type": "code",
   "execution_count": null,
   "metadata": {},
   "outputs": [],
   "source": [
    "from pandas import read_csv\n",
    "from sklearn.model_selection import cross_val_score\n",
    "from sklearn.svm import SVC\n",
    "from sklearn.model_selection import RepeatedStratifiedKFold\n",
    "from skopt import BayesSearchCV\n",
    "# load dataset\n",
    "url = 'https://raw.githubusercontent.com/jbrownlee/Datasets/master/ionosphere.csv'\n",
    "dataframe = read_csv(url, header=None)\n",
    "# split into input and output elements\n",
    "data = dataframe.values\n",
    "X, y = data[:, :-1], data[:, -1]\n",
    "print(X.shape, y.shape)\n",
    "# define search space\n",
    "params = dict()\n",
    "params['C'] = (1e-6, 100.0, 'log-uniform')\n",
    "params['gamma'] = (1e-6, 100.0, 'log-uniform')\n",
    "params['degree'] = (1,5)\n",
    "params['kernel'] = ['linear', 'poly', 'rbf', 'sigmoid']\n",
    "# define evaluation\n",
    "cv = RepeatedStratifiedKFold(n_splits=10, n_repeats=3, random_state=1)\n",
    "# define the search\n",
    "search = BayesSearchCV(estimator=SVC(), search_spaces=params, n_jobs=-1, cv=cv)\n",
    "# perform the search\n",
    "search.fit(X, y)\n",
    "# report the best result\n",
    "print(search.best_score_)\n",
    "print(search.best_params_)"
   ]
  },
  {
   "cell_type": "markdown",
   "metadata": {},
   "source": [
    "# Sk-Opt"
   ]
  },
  {
   "cell_type": "code",
   "execution_count": null,
   "metadata": {},
   "outputs": [],
   "source": [
    "X, y = data.drop(['subject','predicate','object','truth'], axis=1), data['truth']\n",
    "X.shape, y.shape"
   ]
  },
  {
   "cell_type": "code",
   "execution_count": null,
   "metadata": {},
   "outputs": [],
   "source": [
    "from skopt import BayesSearchCV\n",
    "from skopt.space import Real, Categorical, Integer\n",
    "\n",
    "from sklearn.datasets import load_iris\n",
    "from sklearn.ensemble import RandomForestClassifier\n",
    "from sklearn.model_selection import train_test_split\n",
    "\n",
    "\n",
    "X_train, X_test, y_train, y_test = train_test_split(X, y,\n",
    "                                                    train_size=0.75,\n",
    "                                                    random_state=0)\n",
    "\n",
    "# log-uniform: understand as search over p = exp(x) by varying x\n",
    "opt = BayesSearchCV(\n",
    "    RandomForestClassifier(),\n",
    "    {\n",
    "        'n_estimators': Integer(1, 50000, prior='log-uniform'),\n",
    "        'min_samples_leaf': Real(1,10),\n",
    "        'max_features': Categorical(['sqrt', 'log2'])\n",
    "    },\n",
    "    n_iter=5,\n",
    "    random_state=0\n",
    ")\n",
    "\n",
    "# executes bayesian optimization\n",
    "_ = opt.fit(X_train, y_train)\n",
    "\n",
    "# model can be saved, used for predictions or scoring\n",
    "print(opt.score(X_test, y_test))"
   ]
  },
  {
   "cell_type": "code",
   "execution_count": null,
   "metadata": {},
   "outputs": [],
   "source": [
    "dict(opt.best_params_)"
   ]
  },
  {
   "cell_type": "code",
   "execution_count": null,
   "metadata": {},
   "outputs": [],
   "source": [
    "realparams={\n",
    "        'n_estimators': Integer(1, 50000, prior='log-uniform'),\n",
    "        'min_samples_leaf': Real(1,10),\n",
    "        'max_features': Categorical(['sqrt', 'log2'])\n",
    "}\n",
    "\n",
    "p = \"\"\"[\n",
    "    {'name': 'n_estimators', 'range':[50, 150], 'prior':'log-uniform'},\n",
    "    {'name':'min_samples_leaf', 'range': [1.0,10.0]},\n",
    "    {'name':'max_features', 'range': ['sqrt', 'log2']},\n",
    "]\"\"\"\n",
    "p"
   ]
  },
  {
   "cell_type": "code",
   "execution_count": null,
   "metadata": {},
   "outputs": [],
   "source": [
    "p=ast.literal_eval(p)\n",
    "p"
   ]
  },
  {
   "cell_type": "code",
   "execution_count": null,
   "metadata": {},
   "outputs": [],
   "source": [
    "import ast\n",
    "from skopt.space import Real, Categorical, Integer\n",
    "\n",
    "\n",
    "result={}\n",
    "\n",
    "# type(p)\n",
    "for x in p:\n",
    "    if type(x['range'])==tuple:\n",
    "        if type(x['range'][0]) == int: \n",
    "            result[x['name']] = Integer(x['range'][0], x['range'][1])\n",
    "        elif type(x['range'][0]) == float: \n",
    "            result[x['name']] = Real(x['range'][0], x['range'][1])\n",
    "    elif type(x['range']) == list:\n",
    "        result[x['name']] = Categorical(x['range'])\n",
    "\n",
    "result"
   ]
  },
  {
   "cell_type": "code",
   "execution_count": null,
   "metadata": {},
   "outputs": [],
   "source": []
  }
 ],
 "metadata": {
  "kernelspec": {
   "display_name": "Python 3.9.12 ('base')",
   "language": "python",
   "name": "python3"
  },
  "language_info": {
   "codemirror_mode": {
    "name": "ipython",
    "version": 3
   },
   "file_extension": ".py",
   "mimetype": "text/x-python",
   "name": "python",
   "nbconvert_exporter": "python",
   "pygments_lexer": "ipython3",
   "version": "3.9.12"
  },
  "orig_nbformat": 4,
  "vscode": {
   "interpreter": {
    "hash": "760e8a02d58bef947fb67df29745f4128d863e8829938df1158e073523dddf20"
   }
  }
 },
 "nbformat": 4,
 "nbformat_minor": 2
}
